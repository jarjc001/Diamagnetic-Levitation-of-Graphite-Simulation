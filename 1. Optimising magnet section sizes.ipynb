{
 "cells": [
  {
   "cell_type": "markdown",
   "id": "5a614b50-5f47-4341-8b61-12ec2ef2a3bf",
   "metadata": {},
   "source": [
    "## 1. Optimising magnet section sizes"
   ]
  },
  {
   "cell_type": "markdown",
   "id": "a62724f7-1cd0-4b49-8fc1-7c4569eaabc4",
   "metadata": {},
   "source": [
    "In this notebook we will optimise the size of the smaller sections in the magnet, used to represent the entire magnet as a sum of smaller magnets."
   ]
  },
  {
   "cell_type": "code",
   "execution_count": 3,
   "id": "6d25c2b1-f2dc-40a4-b7af-c1f7ccd86112",
   "metadata": {},
   "outputs": [],
   "source": [
    "import magnet_simulator as magsim\n",
    "import numpy as np"
   ]
  },
  {
   "cell_type": "code",
   "execution_count": 4,
   "id": "21f62022-23cd-413a-b08a-939888b6b234",
   "metadata": {},
   "outputs": [],
   "source": [
    "magnetisation = 11.05e5\n",
    "size = 10e-3\n",
    "# section_sizes = [2e-3, 1e-3, 0.5e-3, 0.4e-3, 0.25e-3, 0.2e-3, 0.1e-3]  # 2e-3 must be divisible by all these numbers\n",
    "section_sizes = [2e-3, 1e-3, 0.5e-3, 0.4e-3, 0.25e-3, 0.1e-3]"
   ]
  },
  {
   "cell_type": "code",
   "execution_count": 5,
   "id": "a6c4816d-b535-49d5-a0f2-4562ac4f2baa",
   "metadata": {},
   "outputs": [],
   "source": [
    "b_field = np.array([[0, 0, 0]])\n",
    "\n",
    "for section_size in section_sizes:\n",
    "    mag = magsim.Holed10mmMagnet(\n",
    "        magnetisation=[0, 0, magnetisation], \n",
    "        cubic_section_sizes=section_size\n",
    "    )  # create a cube magnet of size 1cm, with north pole facing up\n",
    "    \n",
    "    b_field = np.append(b_field, [mag.B([0, 0, 6e-3])], axis=0)\n",
    "    \n",
    "b_field = np.delete(b_field, [0], axis=0)"
   ]
  },
  {
   "cell_type": "code",
   "execution_count": 6,
   "id": "ef8fa6ff-1012-40e9-a5ad-7debf12a6da3",
   "metadata": {},
   "outputs": [
    {
     "data": {
      "text/plain": [
       "(array([[-0.        , -0.        ,  0.50628643],\n",
       "        [ 0.        , -0.        ,  0.46875195],\n",
       "        [ 0.        ,  0.        ,  0.47012483],\n",
       "        [-0.        ,  0.        ,  0.47012777],\n",
       "        [-0.        , -0.        ,  0.47012777],\n",
       "        [-0.        , -0.        ,  0.47012779]]),\n",
       " [0.002, 0.001, 0.0005, 0.0004, 0.00025, 0.0001])"
      ]
     },
     "execution_count": 6,
     "metadata": {},
     "output_type": "execute_result"
    }
   ],
   "source": [
    "b_field, section_sizes"
   ]
  },
  {
   "cell_type": "markdown",
   "id": "84f4095d-e749-4b6b-909a-d00dc8159710",
   "metadata": {},
   "source": [
    "Looks like any more accurate than 0.4e-3 is not required based on a required accuracy to 8 s.f."
   ]
  },
  {
   "cell_type": "code",
   "execution_count": 5,
   "id": "7a887bba-2496-4a4d-b0c3-a2448c4a1f1c",
   "metadata": {},
   "outputs": [
    {
     "data": {
      "text/plain": [
       "(15000, 625)"
      ]
     },
     "execution_count": 5,
     "metadata": {},
     "output_type": "execute_result"
    }
   ],
   "source": [
    "mag = magsim.Holed10mmMagnet(\n",
    "    magnetisation=[0, 0, magnetisation], \n",
    "    cubic_section_sizes=0.4e-3\n",
    ")\n",
    "\n",
    "len(mag.section_positions), len(mag.hole_positions)"
   ]
  },
  {
   "cell_type": "markdown",
   "id": "444b649d-849a-40ab-b872-9567b5501701",
   "metadata": {},
   "source": [
    "Therefore, a good segment size would likely be 0.4e-3."
   ]
  }
 ],
 "metadata": {
  "kernelspec": {
   "display_name": "Python 3 (ipykernel)",
   "language": "python",
   "name": "python3"
  },
  "language_info": {
   "codemirror_mode": {
    "name": "ipython",
    "version": 3
   },
   "file_extension": ".py",
   "mimetype": "text/x-python",
   "name": "python",
   "nbconvert_exporter": "python",
   "pygments_lexer": "ipython3",
   "version": "3.8.3"
  }
 },
 "nbformat": 4,
 "nbformat_minor": 5
}
