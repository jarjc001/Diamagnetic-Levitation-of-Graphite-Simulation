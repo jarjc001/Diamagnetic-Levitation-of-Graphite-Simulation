{
 "cells": [
  {
   "cell_type": "markdown",
   "id": "5b2f5145-58bb-4f23-b588-745d0f0658e8",
   "metadata": {},
   "source": [
    "## 3. Calculating magnetic susceptibility of the graphite"
   ]
  },
  {
   "cell_type": "markdown",
   "id": "4ae248cc-b476-48e3-90cc-6195f8797479",
   "metadata": {},
   "source": [
    "This Jupyter Notebook finds the magnetic susceptibility of the graphite pieces using the method described in         \"Determining magnetic susceptibilities of everyday materials using an electronic balance\", Laumann. D., Heusler. S.\n",
    "\n",
    "We have measured the mass difference $\\Delta m$ in the the graphite as 3x1 magnet array is moved above it at different heights.\n",
    "\n",
    "Eqn 7 from the above paper was used to calculate the magnetic susceptbility to the graphite based on these readings."
   ]
  },
  {
   "cell_type": "code",
   "execution_count": 3,
   "id": "c3e48de2-aaaf-4bbd-ba48-50a162760cd6",
   "metadata": {},
   "outputs": [],
   "source": [
    "import magnet_simulator as magsim\n",
    "from magnet_simulator.Graphite import graphite_properties\n",
    "import numpy as np\n",
    "\n",
    "import matplotlib, matplotlib.pyplot as plt\n",
    "matplotlib.rcParams['figure.figsize'] = (14, 8)"
   ]
  },
  {
   "cell_type": "code",
   "execution_count": 4,
   "id": "03be2df7-9b3c-4d70-825b-6cdea077bec6",
   "metadata": {},
   "outputs": [],
   "source": [
    "# create a grid, graphite and magnet_array with the required configuration, the config='3x1' will create a \n",
    "# magnet_array with 3 magnets stacked vertically, top surface of the top magnet at [0, 0, 0]\n",
    "grid, graphite, magnet_array = magsim.Simulation.quick_grid_setup(config='3x1')\n",
    "sim = magsim.Simulation(grid)"
   ]
  },
  {
   "cell_type": "code",
   "execution_count": 5,
   "id": "5c03cc7b-1958-4fba-b901-142e28559895",
   "metadata": {},
   "outputs": [],
   "source": [
    "# z-distance between the graphite and top surface of magnet, units in metres\n",
    "graphite_heights = np.array(\n",
    "    [0.195093, 0.202093, 0.201093, 0.218093, 0.220093, 0.228093, 0.238093]) * 1e-2\n",
    "\n",
    "# which results in the following positions: [[0, 0, 0.195093], [0, 0, 0.202093], [...], ...]\n",
    "graphite_positions = np.array([[0, 0, z] for z in graphite_heights])\n",
    "\n",
    "# these are the corresponding differences in mass in the graphite, in kg\n",
    "mass_differences = np.array(\n",
    "    [0.1820, 0.1795, 0.1700, 0.1490, 0.1505, 0.1435, 0.1180]) * 1e-3"
   ]
  },
  {
   "cell_type": "code",
   "execution_count": 6,
   "id": "0a0ab020-ad70-4473-9863-36a0b17d7e3c",
   "metadata": {},
   "outputs": [],
   "source": [
    "# compute the magnetic_susceptibility at each of these height/mass diffference combinations\n",
    "results = sim.calc_magnetic_susceptibility(graphite_positions, mass_differences)"
   ]
  },
  {
   "cell_type": "code",
   "execution_count": 7,
   "id": "2dd64c03-7ab6-4fe2-bb1e-0b969980ca94",
   "metadata": {},
   "outputs": [
    {
     "data": {
      "text/html": [
       "<div>\n",
       "<style scoped>\n",
       "    .dataframe tbody tr th:only-of-type {\n",
       "        vertical-align: middle;\n",
       "    }\n",
       "\n",
       "    .dataframe tbody tr th {\n",
       "        vertical-align: top;\n",
       "    }\n",
       "\n",
       "    .dataframe thead th {\n",
       "        text-align: right;\n",
       "    }\n",
       "</style>\n",
       "<table border=\"1\" class=\"dataframe\">\n",
       "  <thead>\n",
       "    <tr style=\"text-align: right;\">\n",
       "      <th></th>\n",
       "      <th>height</th>\n",
       "      <th>mass_difference</th>\n",
       "      <th>magnetic_susceptibility</th>\n",
       "    </tr>\n",
       "  </thead>\n",
       "  <tbody>\n",
       "    <tr>\n",
       "      <th>0</th>\n",
       "      <td>0.001951</td>\n",
       "      <td>0.000182</td>\n",
       "      <td>-0.000482</td>\n",
       "    </tr>\n",
       "    <tr>\n",
       "      <th>1</th>\n",
       "      <td>0.002021</td>\n",
       "      <td>0.000179</td>\n",
       "      <td>-0.000497</td>\n",
       "    </tr>\n",
       "    <tr>\n",
       "      <th>2</th>\n",
       "      <td>0.002011</td>\n",
       "      <td>0.00017</td>\n",
       "      <td>-0.000468</td>\n",
       "    </tr>\n",
       "    <tr>\n",
       "      <th>3</th>\n",
       "      <td>0.002181</td>\n",
       "      <td>0.000149</td>\n",
       "      <td>-0.000456</td>\n",
       "    </tr>\n",
       "    <tr>\n",
       "      <th>4</th>\n",
       "      <td>0.002201</td>\n",
       "      <td>0.00015</td>\n",
       "      <td>-0.000466</td>\n",
       "    </tr>\n",
       "    <tr>\n",
       "      <th>5</th>\n",
       "      <td>0.002281</td>\n",
       "      <td>0.000143</td>\n",
       "      <td>-0.000466</td>\n",
       "    </tr>\n",
       "    <tr>\n",
       "      <th>6</th>\n",
       "      <td>0.002381</td>\n",
       "      <td>0.000118</td>\n",
       "      <td>-0.000407</td>\n",
       "    </tr>\n",
       "  </tbody>\n",
       "</table>\n",
       "</div>"
      ],
      "text/plain": [
       "     height mass_difference magnetic_susceptibility\n",
       "0  0.001951        0.000182               -0.000482\n",
       "1  0.002021        0.000179               -0.000497\n",
       "2  0.002011         0.00017               -0.000468\n",
       "3  0.002181        0.000149               -0.000456\n",
       "4  0.002201         0.00015               -0.000466\n",
       "5  0.002281        0.000143               -0.000466\n",
       "6  0.002381        0.000118               -0.000407"
      ]
     },
     "execution_count": 7,
     "metadata": {},
     "output_type": "execute_result"
    }
   ],
   "source": [
    "results"
   ]
  },
  {
   "cell_type": "code",
   "execution_count": 8,
   "id": "e3545340-4272-4069-81a7-4d974ba67e37",
   "metadata": {},
   "outputs": [
    {
     "data": {
      "text/plain": [
       "(-0.0004631939741627328, 2.8247637763939664e-05)"
      ]
     },
     "execution_count": 8,
     "metadata": {},
     "output_type": "execute_result"
    }
   ],
   "source": [
    "magnetic_susceptibility_mean = results['magnetic_susceptibility'].mean()\n",
    "magnetic_susceptibility_error = \\\n",
    "    (results['magnetic_susceptibility'].max() - results['magnetic_susceptibility'].min()) / 2\n",
    "magnetic_susceptibility_std = results['magnetic_susceptibility'].std()\n",
    "\n",
    "magnetic_susceptibility_mean, magnetic_susceptibility_std"
   ]
  },
  {
   "cell_type": "markdown",
   "id": "122b75af-5418-4cdd-8586-4150c1a67f10",
   "metadata": {},
   "source": [
    "Graphites magnetic susceptibility $(-4.63 \\pm 0.28)\\times10^{-4}$. This isn't too far off from the expected $-4.5\\times10^{-4}$."
   ]
  },
  {
   "cell_type": "code",
   "execution_count": 9,
   "id": "ab6535c6-8989-4b19-bade-6f75411d78df",
   "metadata": {},
   "outputs": [
    {
     "data": {
      "image/png": "[encoded data removed]",
      "text/plain": [
       "<Figure size 1008x576 with 1 Axes>"
      ]
     },
     "metadata": {
      "needs_background": "light"
     },
     "output_type": "display_data"
    }
   ],
   "source": [
    "# plot it\n",
    "plt.scatter(results['height'], results['magnetic_susceptibility'])\n",
    "\n",
    "plt.axhline(magnetic_susceptibility_mean, c='g')  # mean\n",
    "\n",
    "plt.axhline(magnetic_susceptibility_mean + magnetic_susceptibility_std, c='g', linestyle=':')\n",
    "plt.axhline(magnetic_susceptibility_mean - magnetic_susceptibility_std, c='g', linestyle=':')\n",
    "\n",
    "plt.title(\"Magnetic susceptibility of graphite\", fontsize=16)\n",
    "plt.xlabel('Height of graphite (m)', fontsize=14), plt.ylabel('Magnetic susceptibility', fontsize=14)\n",
    "plt.xticks(fontsize=12), plt.yticks(fontsize=12)\n",
    "\n",
    "plt.show()"
   ]
  }
 ],
 "metadata": {
  "kernelspec": {
   "display_name": "Python 3 (ipykernel)",
   "language": "python",
   "name": "python3"
  },
  "language_info": {
   "codemirror_mode": {
    "name": "ipython",
    "version": 3
   },
   "file_extension": ".py",
   "mimetype": "text/x-python",
   "name": "python",
   "nbconvert_exporter": "python",
   "pygments_lexer": "ipython3",
   "version": "3.8.3"
  }
 },
 "nbformat": 4,
 "nbformat_minor": 5
}
